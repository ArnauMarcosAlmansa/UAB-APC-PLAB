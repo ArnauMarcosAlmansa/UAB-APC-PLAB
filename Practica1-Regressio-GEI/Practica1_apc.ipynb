{
 "cells": [
  {
   "cell_type": "markdown",
   "metadata": {},
   "source": [
    "# Apartat C\n",
    "\n",
    "## Setup\n",
    "\n",
    "* Importem les llibreries\n",
    "* Configurem pandas\n",
    "* Importem el dataset\n",
    "* Inspeccionem les dimensions de les dades"
   ]
  },
  {
   "cell_type": "code",
   "execution_count": null,
   "metadata": {},
   "outputs": [],
   "source": [
    "## APARTADO C\n",
    "\n",
    "import pandas as pd\n",
    "import matplotlib.pyplot as plt\n",
    "import seaborn as sns\n",
    "\n",
    "# Visualitzarem 4 decimals per mostra\n",
    "pd.set_option('display.float_format', lambda x: '%.4f' % x)\n",
    "\n",
    "dataset = pd.read_csv(\"Consumo_cerveja.txt\", header=0, delimiter=',', decimal=\".\", names=[\"DATA\",\"TEMPMED\",\"TEMPMIN\",\"TEMPMAX\",\"PREC\",\"FINSEM\",\"CONSUM\"])\n",
    "\n",
    "data = dataset.values\n",
    "\n",
    "x = data[:, 1:-1]\n",
    "y = data[:, -1]\n",
    "\n",
    "print(\"Dimensionalitat de la BBDD:\", dataset.shape)\n",
    "print(\"Dimensionalitat de les entrades X\", x.shape)\n",
    "print(\"Dimensionalitat de l'atribut Y\", y.shape)\n"
   ]
  },
  {
   "cell_type": "markdown",
   "metadata": {},
   "source": [
    "## Mostrem les característiques del dataset\n",
    "\n",
    "* Número d'entrades\n",
    "* Descripció de les columnes\n",
    "    * Nom de cada columna\n",
    "    * Quantitat de registres amb valor\n",
    "    * Si pot ser null o no\n",
    "    * Tipus de dada\n",
    "\n",
    "La part del tipus de dada es especialment important. Si les dades no s'importen com a números no podrem treballar correctament amb el dataset."
   ]
  },
  {
   "cell_type": "code",
   "execution_count": null,
   "metadata": {},
   "outputs": [],
   "source": [
    "dataset.info()"
   ]
  },
  {
   "cell_type": "markdown",
   "metadata": {},
   "source": [
    "## Busquem valors nulls\n",
    "\n",
    "No n'hi ha cap."
   ]
  },
  {
   "cell_type": "code",
   "execution_count": null,
   "metadata": {},
   "outputs": [],
   "source": [
    "print(\"Per comptar el nombre de valors no existents:\")\n",
    "print(dataset.isnull().sum())"
   ]
  },
  {
   "cell_type": "markdown",
   "metadata": {},
   "source": [
    "## Visualitzem els primers registres"
   ]
  },
  {
   "cell_type": "code",
   "execution_count": null,
   "metadata": {},
   "outputs": [],
   "source": [
    "print(\"Per visualitzar les primeres 5 mostres de la BBDD:\")\n",
    "dataset.head()"
   ]
  },
  {
   "cell_type": "code",
   "execution_count": null,
   "metadata": {},
   "outputs": [],
   "source": [
    "print(\"Per veure estadístiques dels atributs numèrics de la BBDD:\")\n",
    "dataset.describe()"
   ]
  },
  {
   "cell_type": "markdown",
   "metadata": {},
   "source": [
    "## Mostrem correlacions\n",
    "\n",
    "Mostrem les correlacions entre els atributs numerics.\n",
    "\n",
    "El que ens importa especialment son les correlacions entre l'atribut de consum i la resta d'atributs.\n",
    "\n",
    "Utilitzem el seguent criteri per les correlacions segons el seu valor absolut:\n",
    "* \\[0, 0.3) -> sense correlacio\n",
    "* \\[0.3, 0.5) -> correlacio baixa\n",
    "* \\[0.5, 0.7) -> correlacio mitja\n",
    "* \\[0.7, 0.9) -> correlacio alta\n",
    "* \\[0.9, 1\\] -> correlacio molt alta\n",
    "\n",
    "Veiem les seguents correlacions:\n",
    "* Consum i temperatura mitjana: correlacio mitja\n",
    "* Consum i temperatura minima: correlacio baixa\n",
    "* Consum i temperatura maxima: correlacio mitja\n",
    "* Consum i precipitacio: sense correlacio\n",
    "* Consum i cap de setmana: correlacio mitja\n",
    "      \n",
    "No hi ha cap variable que tingui correlacio alta o molt alta amb el consum.\n",
    "    \n",
    "\n",
    "També hi ha correlacions mitjes o altes entre les diferents mostres de temperatures (minima, mitjana, maxima)."
   ]
  },
  {
   "cell_type": "code",
   "execution_count": null,
   "metadata": {},
   "outputs": [],
   "source": [
    "co = dataset.corr()\n",
    "plt.figure()\n",
    "\n",
    "ax = sns.heatmap(co, annot=True, linewidths=.5)"
   ]
  },
  {
   "cell_type": "code",
   "execution_count": null,
   "metadata": {},
   "outputs": [],
   "source": [
    "dataset.hist(figsize=(12, 12))\n",
    "rel = sns.pairplot(dataset)"
   ]
  },
  {
   "cell_type": "markdown",
   "metadata": {},
   "source": [
    "## Descartem atributs\n",
    "\n",
    "Com que les precipitacions no tenen correlacio amb el consum, i tampoc segueixen una distribució Gaussiana, el descartem.\n",
    "Com que la temperatura mínima te correlació baixa, la descartem també.\n",
    "I com hem descartat alguns valors, actualitzem els valors a x."
   ]
  },
  {
   "cell_type": "code",
   "execution_count": null,
   "metadata": {},
   "outputs": [],
   "source": [
    "dataset2 = dataset.drop(['PREC'], axis=1)\n",
    "\n",
    "data = dataset2.values\n",
    "x = data[:, 1:-1]\n",
    "y = data[:, -1]"
   ]
  },
  {
   "cell_type": "markdown",
   "metadata": {},
   "source": [
    "# Apartat B"
   ]
  },
  {
   "cell_type": "code",
   "execution_count": null,
   "metadata": {},
   "outputs": [],
   "source": [
    "## APARTADO B\n",
    "\n",
    "import math\n",
    "import numpy as np #importem la llibreria\n",
    "np.warnings.filterwarnings('ignore')\n",
    "from sklearn.linear_model import LinearRegression,Lasso,Ridge,ElasticNet\n",
    "from sklearn.model_selection import train_test_split\n",
    "\n",
    "def mse(v1, v2):\n",
    "    return ((v1 - v2)**2).mean()\n",
    "\n",
    "def linearReg(x, y):\n",
    "    # Creem un objecte de regressió de sklearn\n",
    "    regr = LinearRegression()\n",
    "    # Entrenem el model per a predir y a partir de x\n",
    "    regr.fit(x, y)\n",
    "    # Retornem el model entrenat\n",
    "    return regr\n",
    "\n",
    "def lassoReg(x, y):\n",
    "    regr = Lasso()\n",
    "    regr.fit(x, y)\n",
    "    return regr\n",
    "\n",
    "def ridgeReg(x, y):\n",
    "    regr = Ridge()\n",
    "    regr.fit(x, y)\n",
    "    return regr\n",
    "\n",
    "def elasticReg(x, y):\n",
    "    regr = ElasticNet()\n",
    "    regr.fit(x, y)\n",
    "    return regr\n"
   ]
  },
  {
   "cell_type": "code",
   "execution_count": null,
   "metadata": {},
   "outputs": [],
   "source": [
    "def standarize(x_train):\n",
    "    mean = x_train.mean(0)\n",
    "    std = x_train.std(0)\n",
    "    x_t = x_train - mean[None, :]\n",
    "    x_t /= std[None, :]\n",
    "    return x_t\n",
    "\n",
    "x = x.astype(float)\n",
    "y = y.astype(float)\n",
    "\n",
    "x = standarize(x)\n"
   ]
  },
  {
   "cell_type": "code",
   "execution_count": null,
   "metadata": {},
   "outputs": [],
   "source": [
    "x_train, x_test, y_train, y_test = train_test_split(x, y, test_size=0.2)\n",
    "\n",
    "from sklearn.metrics import r2_score\n",
    "\n",
    "regr = linearReg(x_train, y_train)\n",
    "error = mse(y_test, regr.predict(x_test)) # calculem error\n",
    "r2 = r2_score(y_test, regr.predict(x_test))\n",
    "print(\"Linear Regression:\")\n",
    "print(\"Error en atribut: %f\" %( error))\n",
    "print(\"R2 score en atribut: %f\" %( r2))\n",
    "\n",
    "regr = lassoReg(x_train, y_train)\n",
    "error = mse(y_test, regr.predict(x_test)) # calculem error\n",
    "r2 = r2_score(y_test, regr.predict(x_test))\n",
    "print(\"Lasso:\")\n",
    "print(\"Error en atribut: %f\" %( error))\n",
    "print(\"R2 score en atribut: %f\" %( r2))\n",
    "\n",
    "regr = ridgeReg(x_train, y_train)\n",
    "error = mse(y_test, regr.predict(x_test)) # calculem error\n",
    "r2 = r2_score(y_test, regr.predict(x_test))\n",
    "print(\"Ridge:\")\n",
    "print(\"Error en atribut: %f\" %( error))\n",
    "print(\"R2 score en atribut: %f\" %( r2))\n",
    "\n",
    "regr = elasticReg(x_train, y_train)\n",
    "error = mse(y_test, regr.predict(x_test)) # calculem error\n",
    "r2 = r2_score(y_test, regr.predict(x_test))\n",
    "print(\"ElasticNet:\")\n",
    "print(\"Error en atribut: %f\" %( error))\n",
    "print(\"R2 score en atribut: %f\" %( r2))"
   ]
  },
  {
   "cell_type": "code",
   "execution_count": null,
   "metadata": {},
   "outputs": [],
   "source": [
    "# APARTADO A\n",
    "\n",
    "import numpy as np\n",
    "\n",
    "class Regressor(object):\n",
    "    def __init__(self, w0, w1, alpha):\n",
    "        # Inicialitzem w0 i w1 (per ser ampliat amb altres w's)\n",
    "        self.w0 = w0\n",
    "        self.w1 = w1\n",
    "        self.alpha = alpha\n",
    "\n",
    "        \n",
    "    def predict(self, x):\n",
    "        # implementar aqui la funció de prediccio\n",
    "        pass\n",
    "    \n",
    "    def __update(self, hy, y):\n",
    "        # actualitzar aqui els pesos donada la prediccio (hy) i la y real.\n",
    "        self.weights = self.weights - self.alpha / m * (X.transpose() * (X * self.weights - y));\n",
    "    \n",
    "    def train(self, max_iter, epsilon):\n",
    "        # Entrenar durant max_iter iteracions o fins que la millora sigui inferior a epsilon\n",
    "        iterations = 0            \n",
    "        pass\n",
    "    \n",
    "    \n",
    "class RegressorProba(object):\n",
    "    def __init__(self, w0, weights, alpha):\n",
    "        # Inicialitzem w0 i w1 (per ser ampliat amb altres w's)\n",
    "        self.w0 = w0\n",
    "        self.weights = weights\n",
    "        self.alpha = alpha\n",
    "        \n",
    "    def predict(self, x):\n",
    "        # implementar aqui la funció de prediccio\n",
    "        return np.dot(x, self.weights) + self.w0\n",
    "    \n",
    "    def __update(self, X, y):\n",
    "        # actualitzar aqui els pesos donada la prediccio (hy) i la y real.\n",
    "        m = len(y)\n",
    "        self.weights = self.weights - self.alpha / m * (X.transpose() * (X * self.weights - y));\n",
    "        \n",
    "    def __gradients(self, x, real_y, predicted_y):\n",
    "        error = predicted_y - real_y\n",
    "        w0_gradient = (1 / len(real_y)) * np.sum(error)\n",
    "        weights_gradients = (1 / len(real_y)) * np.matmul(x.transpose(), error)\n",
    "        \n",
    "        return w0_gradient, weights_gradients\n",
    "        \n",
    "    def __update_weights(self, w0_diff, weight_diffs):\n",
    "        self.w0 = self.w0 - self.alpha * w0_diff\n",
    "        self.weights = self.weights - self.alpha * weight_diffs\n",
    "    \n",
    "    def train(self, x, y, max_iter, epsilon):\n",
    "        # Entrenar durant max_iter iteracions o fins que la millora sigui inferior a epsilon\n",
    "        iterations = 0\n",
    "        old_w0 = self.w0\n",
    "        old_weights = self.weights.copy()\n",
    "        while iterations < max_iter:\n",
    "            predicted_y = self.predict(x)\n",
    "            \n",
    "            w0_diff, weight_diffs = self.__gradients(x, y, predicted_y)\n",
    "                        \n",
    "            self.__update_weights(w0_diff, weight_diffs)\n",
    "    \n",
    "            if abs(self.w0 - old_w0) < epsilon and np.allclose(self.weights, old_weights, atol=epsilon):\n",
    "                return\n",
    "            \n",
    "            old_w0 = self.w0\n",
    "            old_weights = self.weights\n",
    "            iterations += 1\n",
    "\n",
    "            \n",
    "regr = RegressorProba(1, np.ones(len(x_train[0]), dtype=float), 0.1)\n",
    "\n",
    "regr.train(x_train, y_train, 100000, 0.001)\n",
    "\n",
    "y_predict = regr.predict(x_test)\n",
    "\n",
    "error = mse(y_test, y_predict) # calculem error\n",
    "r2 = r2_score(y_test, y_predict)\n",
    "print(\"CUSTOM Linear Regression:\")\n",
    "print(\"Error: %f\" %( error))\n",
    "print(\"R2 score: %f\" %( r2))\n"
   ]
  },
  {
   "cell_type": "code",
   "execution_count": null,
   "metadata": {},
   "outputs": [],
   "source": []
  }
 ],
 "metadata": {
  "kernelspec": {
   "display_name": "Python 3 (ipykernel)",
   "language": "python",
   "name": "python3"
  },
  "language_info": {
   "codemirror_mode": {
    "name": "ipython",
    "version": 3
   },
   "file_extension": ".py",
   "mimetype": "text/x-python",
   "name": "python",
   "nbconvert_exporter": "python",
   "pygments_lexer": "ipython3",
   "version": "3.10.6"
  },
  "vscode": {
   "interpreter": {
    "hash": "e49f01b25252117987057767e4860399151593b17ce2349b8fe42cec150c223d"
   }
  }
 },
 "nbformat": 4,
 "nbformat_minor": 4
}
